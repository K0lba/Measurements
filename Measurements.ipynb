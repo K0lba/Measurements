{
 "cells": [
  {
   "attachments": {},
   "cell_type": "markdown",
   "metadata": {},
   "source": [
    "extra_javascript:\n",
    "    myscript.js"
   ]
  },
  {
   "attachments": {},
   "cell_type": "markdown",
   "metadata": {},
   "source": [
    "## SatSolver Performance Measurements\n",
    "Эксперимент будет проводиться на ноутбуке __Huawei Matebook D14__ модели __NBM_WDH9 2020__ года выпуска.\n",
    "> На ноутбуке установлена операционная система _Windows 11  21h2_  \n",
    ">  Процессор _AMD Ryzen 5 5500U <br>with Radeon Graphics 2.10 GHz_ на 6 ядер,  \n",
    ">  логических процессоров: 12.  \n",
    ">  _RAM_ - 8гб, также устанолен файл подкачки на 4гб.  \n",
    ">  Ноутбук подключен к источнику питания.\n",
    "  \n",
    "Для проведения эксперимента я отключил обновления, сбросил весь кэш, отключил все фоновые приложения, в том числе, закрыл браузер, стабилизировал частоту CPU, выставив ее на максимальный уровень, выставил режим питания - максимальная производительность.\n",
    "Проверил алгоритм работы SatSolvera, на данных, на которых будет проводится тестирование.\n",
    "\n",
    "[Данные, на которых будет проводиться эксперемент](sat.cnf)\n",
    "\n",
    "[Полученные результаты, после проведения замеров](results.txt)"
   ]
  },
  {
   "attachments": {},
   "cell_type": "markdown",
   "metadata": {},
   "source": [
    "##### После проведения 40 замеров, получили следующий результат:\n",
    "\n",
    "<p align=\"center\">\n",
    "    <img src=\"images/Figure_1.png\" alt=\"тут должна быть гистограмма\">\n",
    "</p>"
   ]
  },
  {
   "cell_type": "code",
   "execution_count": 30,
   "metadata": {},
   "outputs": [
    {
     "name": "stdout",
     "output_type": "stream",
     "text": [
      "[0.489, 0.481, 0.478, 0.477, 0.476, 0.487, 0.478, 0.485, 0.489, 0.478, 0.486, 0.478, 0.483, 0.479, 0.483, 0.477, 0.481, 0.48, 0.485, 0.484, 0.48, 0.48, 0.48, 0.475, 0.479, 0.479, 0.477, 0.479, 0.477, 0.48, 0.476, 0.48, 0.479, 0.483, 0.477, 0.479, 0.484, 0.476, 0.475, 0.485]\n"
     ]
    },
    {
     "data": {
      "image/png": "[encoded data removed]",
      "text/plain": [
       "<Figure size 640x480 with 1 Axes>"
      ]
     },
     "metadata": {},
     "output_type": "display_data"
    }
   ],
   "source": [
    "from scipy import stats\n",
    "import numpy as np\n",
    "import matplotlib.pyplot as plt\n",
    "import interval\n",
    "\n",
    "with open(\"results.txt\") as file:\n",
    "    t = list(map(lambda x: float(x), file.readlines()[0][1:-2].split(\",\")))\n",
    "print(t)\n",
    "\n",
    "plt.hist(t,facecolor = 'green')\n",
    "plt.show()"
   ]
  },
  {
   "attachments": {},
   "cell_type": "markdown",
   "metadata": {},
   "source": [
    "А также получили p-value = $0.1497 > 0.05$. Следовательно данные прошли проверку на нормальность."
   ]
  },
  {
   "cell_type": "code",
   "execution_count": 31,
   "metadata": {},
   "outputs": [
    {
     "name": "stdout",
     "output_type": "stream",
     "text": [
      "0.14966397327928804\n"
     ]
    }
   ],
   "source": [
    "(stat,p_value) = stats.normaltest(t)\n",
    "print(p_value)"
   ]
  },
  {
   "attachments": {},
   "cell_type": "markdown",
   "metadata": {},
   "source": [
    "#### Следующим шагом было вычесление  среднего, стандартного отклонения и стандартного отклонения среднего.\n",
    "\n",
    "1. Считаем среднее арифметическое: $$ a_{ср. арифм.}=\\frac{a_1+...+a_n}{n}$$ \n",
    "\n",
    "    average = $0.48034999999999994$\n"
   ]
  },
  {
   "cell_type": "code",
   "execution_count": 32,
   "metadata": {},
   "outputs": [
    {
     "name": "stdout",
     "output_type": "stream",
     "text": [
      "0.48034999999999994\n"
     ]
    }
   ],
   "source": [
    "average = np.mean(t)\n",
    "print(average)"
   ]
  },
  {
   "attachments": {},
   "cell_type": "markdown",
   "metadata": {},
   "source": [
    "2. Стандартное отклонение считается по следующей формуле: $$ \\sigma_{с.о.}=\\sqrt{\\frac{\\sum{(\\overline x - x_i)^2}}{n-1}}$$ \n",
    "    где n - количество замеров, $\\overline x$ - наше среднее\n",
    "\n",
    "    standart_deviation = $0.0037317075214492695$"
   ]
  },
  {
   "cell_type": "code",
   "execution_count": 33,
   "metadata": {},
   "outputs": [
    {
     "name": "stdout",
     "output_type": "stream",
     "text": [
      "0.0037317075214492695\n"
     ]
    }
   ],
   "source": [
    "standart_deviation = (sum(list(map(lambda x: (average-x) ** 2, t)))/(len(t)-1))**(0.5)\n",
    "print(standart_deviation)"
   ]
  },
  {
   "attachments": {},
   "cell_type": "markdown",
   "metadata": {},
   "source": [
    "3. Стандартное отклонение среднего найдем по формуле: $$ \\sigma_{с.о.с.}=\\frac{\\sigma_{с.о.}}{\\sqrt{n}}$$ \n",
    "\n",
    "    standart_deviation_average = $0.0005900347664680669$"
   ]
  },
  {
   "cell_type": "code",
   "execution_count": 34,
   "metadata": {},
   "outputs": [
    {
     "name": "stdout",
     "output_type": "stream",
     "text": [
      "0.0005900347664680669\n"
     ]
    }
   ],
   "source": [
    "standart_error_mean = standart_deviation/((len(t))**(0.5))\n",
    "print(standart_error_mean)"
   ]
  },
  {
   "attachments": {},
   "cell_type": "markdown",
   "metadata": {},
   "source": [
    "#### Вычисляем погрешность - половина длины доверительного интервала:\n",
    "\n",
    "$2*\\sigma_{c.o.c.} = 0.0012$\n",
    "\n",
    "$2*\\sigma_{c.o.} = 0.007$"
   ]
  },
  {
   "cell_type": "code",
   "execution_count": 35,
   "metadata": {},
   "outputs": [
    {
     "name": "stdout",
     "output_type": "stream",
     "text": [
      "0.0011800695329361338\n",
      "0.007463415042898539\n"
     ]
    }
   ],
   "source": [
    "error = 2 * standart_error_mean\n",
    "print(error)\n",
    "error_standart = 2 * standart_deviation\n",
    "print(error_standart)"
   ]
  },
  {
   "attachments": {},
   "cell_type": "markdown",
   "metadata": {},
   "source": [
    "#### Далее ищем 95% предсказывающий и доверительный интервалы.\n",
    "Предсказывающий интервал: $\\overline x \\pm 2*\\sigma_{с.о.}$\n",
    "\n",
    "$0.4 \\pm 0.007$"
   ]
  },
  {
   "cell_type": "code",
   "execution_count": 36,
   "metadata": {},
   "outputs": [
    {
     "name": "stdout",
     "output_type": "stream",
     "text": [
      "[0.4728865849571014..0.4878134150428985]\n"
     ]
    }
   ],
   "source": [
    "predictive_interval = interval.Interval(average - 2*standart_deviation, average + 2*standart_deviation)\n",
    "print(predictive_interval)"
   ]
  },
  {
   "attachments": {},
   "cell_type": "markdown",
   "metadata": {},
   "source": [
    "Доверительный интервал: $\\overline x \\pm 2*\\sigma_{с.о.c.}$\n",
    "\n",
    "$0.4 \\pm 0.0012$"
   ]
  },
  {
   "cell_type": "code",
   "execution_count": 37,
   "metadata": {},
   "outputs": [
    {
     "name": "stdout",
     "output_type": "stream",
     "text": [
      "[0.4791699304670638..0.4815300695329361]\n"
     ]
    }
   ],
   "source": [
    "confidence_interval = interval.Interval(average - 2*standart_error_mean, average + 2*standart_error_mean)\n",
    "print(confidence_interval)"
   ]
  },
  {
   "attachments": {},
   "cell_type": "markdown",
   "metadata": {},
   "source": [
    "Повторный эксперимент был выделен в отдельный файлик:\n",
    "[жмяк](Second_test.ipynb)"
   ]
  }
 ],
 "metadata": {
  "kernelspec": {
   "display_name": "Python 3",
   "language": "python",
   "name": "python3"
  },
  "language_info": {
   "codemirror_mode": {
    "name": "ipython",
    "version": 3
   },
   "file_extension": ".py",
   "mimetype": "text/x-python",
   "name": "python",
   "nbconvert_exporter": "python",
   "pygments_lexer": "ipython3",
   "version": "3.11.2"
  },
  "orig_nbformat": 4
 },
 "nbformat": 4,
 "nbformat_minor": 2
}

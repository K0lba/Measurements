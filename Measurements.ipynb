{
 "cells": [
  {
   "attachments": {},
   "cell_type": "markdown",
   "metadata": {},
   "source": [
    "## SatSolver Performance Measurements\n",
    "Эксперимент будет проводиться на ноутбуке __Huawei Matebook D14__ модели __NBM_WDH9 2020__ года выпуска.\n",
    "> На ноутбуке установлена операционная система _Windows 11  21h2_  \n",
    ">  Процессор _AMD Ryzen 5 5500U <br>with Radeon Graphics 2.10 GHz_ на 6 ядер,  \n",
    ">  логических процессоров: 12.  \n",
    ">  _RAM_ - 8гб, также устанолен файл подкачки на 4гб.  \n",
    ">  Ноутбук подключен к источнику питания.\n",
    "  \n",
    "Для проведения эксперимента я отключил обновления, сбросил весь кэш, отключил все фоновые приложения, в том числе, закрыл браузер, стабилизировал частоту CPU, выставив ее на максимальный уровень, выставил режим питания - максимальная производительность.\n",
    "Проверил алгоритм работы SatSolvera, на данных, на которых будет проводится тестирование.\n",
    "\n",
    "[Данные, на которых будет проводиться эксперемент](sat.cnf)\n",
    "\n",
    "[Полученные результаты, после проведения замеров](results.txt)"
   ]
  },
  {
   "attachments": {},
   "cell_type": "markdown",
   "metadata": {},
   "source": [
    "##### После проведения 40 замеров, получили следующий результат:\n",
    "\n",
    "<p align=\"center\">\n",
    "    <img src=\"images/Figure_1.png\" alt=\"тут должна быть гистограмма\">\n",
    "</p>"
   ]
  },
  {
   "attachments": {},
   "cell_type": "markdown",
   "metadata": {},
   "source": [
    "А также получили p-value = $0.1496 > 0.05$. Следовательно данные прошли проверку на нормальность.\n",
    "```\n",
    "(stat,p_value) = stats.normaltest(t)\n",
    "```"
   ]
  },
  {
   "attachments": {},
   "cell_type": "markdown",
   "metadata": {},
   "source": [
    "#### Следующим шагом было вычесление  среднего, стандартного отклонения и стандартного отклонения среднего.\n",
    "\n",
    "1. Считаем среднее арифметическое: $$ a_{ср. арифм.}=\\frac{a_1+...+a_n}{n}$$ \n",
    "    ```\n",
    "    average = np.mean(t)\n",
    "    ```\n",
    "    average = $0.48$\n",
    "\n",
    "2. Стандартное отклонение считается по следующей формуле: $$ \\sigma_{с.о.}=\\sqrt{\\frac{\\sum{(\\overline x - x_i)^2}}{n-1}}$$ \n",
    "    где n - количество замеров, $\\overline x$ - наше среднее\n",
    "    ```\n",
    "    standart_deviation = (sum(list(map(lambda x: (average-x) ** 2, t)))/(len(t)-1))**(0.5)\n",
    "    ```\n",
    "    standart_deviation = $0.0037$\n",
    "    \n",
    "3. Стандартное отклонение среднего найдем по формуле: $$ \\sigma_{с.о.с.}=\\frac{\\sigma_{с.о.}}{\\sqrt{n}}$$ \n",
    "    ```\n",
    "    standart_deviation_average = standart_deviation/((len(t))**(0.5))\n",
    "    ```\n",
    "    standart_deviation_average = $0.00059$\n"
   ]
  },
  {
   "attachments": {},
   "cell_type": "markdown",
   "metadata": {},
   "source": [
    "#### Далее ищем 95% предсказывающий и доверительный интервалы.\n",
    "\n",
    "\n",
    "<table style='border: 1px solid grey;'>\n",
    "   <tr><th>Предсказывающий интервал</th><th>Доверительный интервал</th></tr>\n",
    "   <tr><td>$\\overline x \\pm 2*\\sigma_{с.о.}$ </td><td>$\\overline x \\pm 2*\\sigma_{с.о.c.}$</td></tr>\n",
    "</table>\n",
    "\n",
    "```\n",
    "predictive_interval = interval.Interval(average - 2*standart_deviation, average + 2*standart_deviation)\n",
    "```\n",
    "$[0.4729..0.4878]$\n",
    "```\n",
    "confidence_interval = interval.Interval(average - 2*standart_deviation_average, average + 2*standart_deviation_average)\n",
    "```\n",
    "$[0.4792..0.4815]$"
   ]
  },
  {
   "attachments": {},
   "cell_type": "markdown",
   "metadata": {},
   "source": [
    "#### Вычисляем погрешность - половина длины доверительного интервала:\n",
    "\n",
    "$(0.4815-0.4792)/2 = 0.00115$"
   ]
  },
  {
   "attachments": {},
   "cell_type": "markdown",
   "metadata": {},
   "source": [
    "Повторный эксперимент был выделен в отдельный файлик:\n",
    "[жмяк](Second_test.ipynb)"
   ]
  }
 ],
 "metadata": {
  "kernelspec": {
   "display_name": "Python 3",
   "language": "python",
   "name": "python3"
  },
  "language_info": {
   "codemirror_mode": {
    "name": "ipython",
    "version": 3
   },
   "file_extension": ".py",
   "mimetype": "text/x-python",
   "name": "python",
   "nbconvert_exporter": "python",
   "pygments_lexer": "ipython3",
   "version": "3.11.2"
  },
  "orig_nbformat": 4
 },
 "nbformat": 4,
 "nbformat_minor": 2
}
